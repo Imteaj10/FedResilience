{
  "nbformat": 4,
  "nbformat_minor": 0,
  "metadata": {
    "colab": {
      "name": "FedResilience.ipynb",
      "provenance": [],
      "collapsed_sections": []
    },
    "kernelspec": {
      "display_name": "Python 3",
      "name": "python3"
    }
  },
  "cells": [
    {
      "cell_type": "code",
      "metadata": {
        "id": "yfFIUOQw7gJc"
      },
      "source": [
        ""
      ],
      "execution_count": null,
      "outputs": []
    },
    {
      "cell_type": "code",
      "metadata": {
        "id": "dXOkDnY5H-Ul"
      },
      "source": [
        "import urllib.request\n"
      ],
      "execution_count": null,
      "outputs": []
    },
    {
      "cell_type": "code",
      "metadata": {
        "id": "t_DmaNnBDGVR"
      },
      "source": [
        "#pip uninstall pillow"
      ],
      "execution_count": null,
      "outputs": []
    },
    {
      "cell_type": "code",
      "metadata": {
        "id": "3MXgNZAJBnSj"
      },
      "source": [
        "#pip install pillow==4.0.0"
      ],
      "execution_count": null,
      "outputs": []
    },
    {
      "cell_type": "code",
      "metadata": {
        "id": "qfTtk5ymDFd0"
      },
      "source": [
        "#pip install --user syft==0.2.9\n",
        "#the code will show error if the syft version is 0.3.*. "
      ],
      "execution_count": null,
      "outputs": []
    },
    {
      "cell_type": "code",
      "metadata": {
        "id": "Umi7WiQaIB65"
      },
      "source": [
        "def download_url(url, save_as):\n",
        "    response = urllib.request.urlopen(url)\n",
        "    data = response.read()\n",
        "    file = open(save_as, 'wb')\n",
        "    file.write(data)\n",
        "    file.close()\n",
        "    response.close()\n",
        "    \n",
        "def read_binary_file(file):\n",
        "    f = open(file,'rb')\n",
        "    block = f.read()\n",
        "    return block.decode('utf-16')\n",
        "\n",
        "def split_text_in_lines(text):\n",
        "    return text.split('\\r\\n')\n",
        "\n",
        "def split_by_tabs(line):\n",
        "    return line.split('\\t')"
      ],
      "execution_count": null,
      "outputs": []
    },
    {
      "cell_type": "code",
      "metadata": {
        "id": "Z6CWlQhCIFL5"
      },
      "source": [
        "#data_link = 'https://drive.google.com/uc?export=download&id=1J1H2ZYBPRlXNKKWJ1CjdHlRqn4AW0jSi'\n",
        "data_link = 'https://drive.google.com/uc?export=download&id=1QTTCnSHNxexsS6-lGQBPv8Jui_gQ5DE1'\n",
        "FedResilience_data = 'FedResilience.data'\n",
        "b= download_url(data_link, FedResilience_data)"
      ],
      "execution_count": null,
      "outputs": []
    },
    {
      "cell_type": "code",
      "metadata": {
        "id": "RxmUo8C0IJsi"
      },
      "source": [
        "import numpy as np\n",
        "\n",
        "def parse_double(field):\n",
        "    field = field.replace(',', '.')\n",
        "    return float(field)\n",
        "\n",
        "def parse_boolean(field):\n",
        "    return 1. if field == 'yes' else 0.\n",
        "\n",
        "def read_np_array(file = FedResilience_data):\n",
        "    text = read_binary_file(file)\n",
        "    lines = split_text_in_lines(text)\n",
        "    rows = []\n",
        "    for line in lines:\n",
        "        if line == '': continue\n",
        "        line = line.replace('\\r\\n', '')\n",
        "        fields = split_by_tabs(line)\n",
        "        row = []\n",
        "        j = 0\n",
        "        for field in fields:\n",
        "            if j==0:\n",
        "              value = parse_double(field)\n",
        "            else:\n",
        "              value = parse_boolean(field) \n",
        "            row.append(value)\n",
        "            j += 1\n",
        "        rows.append(row)\n",
        "    matrix = np.array(rows, dtype = np.float32)\n",
        "    return matrix"
      ],
      "execution_count": null,
      "outputs": []
    },
    {
      "cell_type": "code",
      "metadata": {
        "id": "8-zCc1urIKN1"
      },
      "source": [
        "def get_random_indexes(n):\n",
        "    indexes = list(range(n))\n",
        "    random_indexes = []\n",
        "    for i in range(n):\n",
        "        r = np.random.randint(len(indexes))\n",
        "        random_indexes.append(indexes.pop(r))\n",
        "    return random_indexes\n",
        "\n",
        "def get_indexes_for_2_datasets(n, training = 80):\n",
        "    indexes = get_random_indexes(n)\n",
        "    train = int(training / 100. * n)\n",
        "    return indexes[:train], indexes[train:]\n",
        "\n",
        "matrix = read_np_array()\n",
        "n_samples, n_dimensions = matrix.shape\n",
        "\n",
        "train_indexes, test_indexes = get_indexes_for_2_datasets(n_samples)\n",
        "train_data = matrix[train_indexes]\n",
        "test_data = matrix[test_indexes]\n",
        "\n",
        "def print_dataset(name, data):\n",
        "    print('Dataset {}. Shape: {}'.format(name, data.shape))\n",
        "    print(data)"
      ],
      "execution_count": null,
      "outputs": []
    },
    {
      "cell_type": "code",
      "metadata": {
        "colab": {
          "base_uri": "https://localhost:8080/"
        },
        "id": "QZtT7bt5IMp7",
        "outputId": "6a83e31f-5b52-4b23-e1b2-3af755a05bca"
      },
      "source": [
        "print_dataset('Train', train_data)\n"
      ],
      "execution_count": null,
      "outputs": [
        {
          "output_type": "stream",
          "text": [
            "Dataset Train. Shape: (1600, 8)\n",
            "[[27.  0.  0. ...  1.  0.  1.]\n",
            " [29.  0.  0. ...  1.  0.  1.]\n",
            " [26.  0.  0. ...  0.  0.  0.]\n",
            " ...\n",
            " [18.  0.  0. ...  0.  1.  0.]\n",
            " [42.  0.  0. ...  0.  0.  0.]\n",
            " [ 7.  0.  0. ...  0.  1.  0.]]\n"
          ],
          "name": "stdout"
        }
      ]
    },
    {
      "cell_type": "code",
      "metadata": {
        "colab": {
          "base_uri": "https://localhost:8080/"
        },
        "id": "Uj2cp8UwIOuP",
        "outputId": "5baced75-ab02-4ee7-94b8-20e3ab0159f6"
      },
      "source": [
        "print_dataset('Test', test_data)\n"
      ],
      "execution_count": null,
      "outputs": [
        {
          "output_type": "stream",
          "text": [
            "Dataset Test. Shape: (400, 8)\n",
            "[[31.  1.  0. ...  1.  0.  0.]\n",
            " [32.  1.  0. ...  0.  0.  0.]\n",
            " [45.  0.  0. ...  1.  0.  1.]\n",
            " ...\n",
            " [44.  1.  0. ...  1.  1.  1.]\n",
            " [39.  0.  0. ...  1.  0.  1.]\n",
            " [41.  0.  0. ...  0.  1.  0.]]\n"
          ],
          "name": "stdout"
        }
      ]
    },
    {
      "cell_type": "code",
      "metadata": {
        "id": "kagpVHzHIQoL"
      },
      "source": [
        "import tensorflow as tf"
      ],
      "execution_count": null,
      "outputs": []
    },
    {
      "cell_type": "code",
      "metadata": {
        "colab": {
          "base_uri": "https://localhost:8080/",
          "height": 35
        },
        "id": "FvtNzTWAIT3Y",
        "outputId": "fa896a4c-56d9-4f4d-c370-d860e71e03cb"
      },
      "source": [
        "tf.__version__"
      ],
      "execution_count": null,
      "outputs": [
        {
          "output_type": "execute_result",
          "data": {
            "application/vnd.google.colaboratory.intrinsic+json": {
              "type": "string"
            },
            "text/plain": [
              "'2.5.0'"
            ]
          },
          "metadata": {
            "tags": []
          },
          "execution_count": 12
        }
      ]
    },
    {
      "cell_type": "code",
      "metadata": {
        "id": "_S0iu9AcIWOX"
      },
      "source": [
        "import torch\n",
        "from torch.autograd import Variable\n",
        "import torch.nn as nn\n",
        "import torch.nn.functional as F\n"
      ],
      "execution_count": null,
      "outputs": []
    },
    {
      "cell_type": "code",
      "metadata": {
        "id": "e3YMsLmIIdQt"
      },
      "source": [
        "input_size = 6\n",
        "learning_rate = 0.01\n",
        "num_iterations = 2000\n",
        "\n",
        "class LogisticRegression(torch.nn.Module):\n",
        "\n",
        "    def __init__(self):\n",
        "        super(LogisticRegression, self).__init__()\n",
        "        self.linear = torch.nn.Linear(input_size, 1)\n",
        "\n",
        "    def forward(self, x):\n",
        "        return torch.sigmoid(self.linear(x))"
      ],
      "execution_count": null,
      "outputs": []
    },
    {
      "cell_type": "code",
      "metadata": {
        "id": "6NAmmPtJIf3q"
      },
      "source": [
        "def decide(y):\n",
        "    return 1 if y >= 0.5 else 0\n",
        "\n",
        "decide_vectorized = np.vectorize(decide)\n",
        "\n",
        "to_percent = lambda x: '{:.2f}%'.format(x)"
      ],
      "execution_count": null,
      "outputs": []
    },
    {
      "cell_type": "code",
      "metadata": {
        "id": "buQxeTRcIiw3"
      },
      "source": [
        "def compute_accuracy(model, input, output):\n",
        "    prediction = model(input).data.numpy()[:, 0]\n",
        "    n_samples = prediction.shape[0] + 0.\n",
        "    prediction = decide_vectorized(prediction)\n",
        "    equal = prediction == output.data.numpy()\n",
        "    return 100. * equal.sum() / n_samples\n",
        "\n",
        "def get_input_and_output(data):\n",
        "    input = Variable(torch.tensor(data[:, :6], dtype = torch.float32))\n",
        "    output1 = Variable(torch.tensor(data[:, 6], dtype = torch.float32))\n",
        "    output2 = Variable(torch.tensor(data[:, 7], dtype = torch.float32))\n",
        "    return input, output1, output2"
      ],
      "execution_count": null,
      "outputs": []
    },
    {
      "cell_type": "code",
      "metadata": {
        "id": "Of8j_V2_Ik27"
      },
      "source": [
        "input, output1, output2 = get_input_and_output(train_data)\n",
        "test_input, test_output1, test_output2 = get_input_and_output(test_data)\n"
      ],
      "execution_count": null,
      "outputs": []
    },
    {
      "cell_type": "code",
      "metadata": {
        "id": "VLq43iWWIm16"
      },
      "source": [
        "import matplotlib.pyplot as plt\n",
        "%matplotlib inline\n",
        "\n",
        "FedResilience_title1 = 'Predict Outage'\n",
        "FedResilience_title2 = 'Predict Resouce-sharing Information'\n"
      ],
      "execution_count": null,
      "outputs": []
    },
    {
      "cell_type": "code",
      "metadata": {
        "id": "XyAcBIlOIpRI"
      },
      "source": [
        "def plot_graphs(FedResilience_title, losses, accuracies):\n",
        "    plt.plot(losses)\n",
        "    plt.title(f\"{FedResilience_title} - Training Loss\")\n",
        "    plt.xlabel(\"Iterations\")\n",
        "    plt.ylabel(\"Training Loss\")\n",
        "    plt.show()\n",
        "    plt.plot(accuracies)\n",
        "    plt.title(f\"{FedResilience_title} - Training Accuracy\")\n",
        "    plt.xlabel(\"Iterations\")\n",
        "    plt.ylabel(\"Training Accuracy (Percent %)\")\n",
        "    plt.show()"
      ],
      "execution_count": null,
      "outputs": []
    },
    {
      "cell_type": "code",
      "metadata": {
        "id": "XCXWecdvIrQN"
      },
      "source": [
        "def train_model(FedResilience_title, input, output, test_input, test_output):\n",
        "    model = LogisticRegression()\n",
        "    criterion = torch.nn.BCELoss(size_average=True)\n",
        "    #criterion = torch.nn.LogSoftmax(model)\n",
        "    optimizer = torch.optim.SGD(model.parameters(), lr=learning_rate)  \n",
        "    losses = []\n",
        "    accuracies = []\n",
        "    n_samples, _ = input.shape\n",
        "    for iteration in range(num_iterations):\n",
        "            optimizer.zero_grad()\n",
        "            prediction = model(input)\n",
        "           \n",
        "            output = output.reshape(-1,1)\n",
        "            output = output.float()\n",
        "            loss = criterion(prediction, output)\n",
        "            loss.backward()\n",
        "            optimizer.step()\n",
        "            if iteration % 10 == 0:\n",
        "                train_acc = compute_accuracy(model, input, output)\n",
        "                train_loss = loss.item()\n",
        "                losses.append(train_loss)\n",
        "                accuracies.append(train_acc)\n",
        "                print('iteration={}, loss={:.4f}, train_acc={}'.format(iteration, train_loss, to_percent(train_acc)))\n",
        "    plot_graphs(FedResilience_title, losses, accuracies)\n",
        "    test_acc = compute_accuracy(model, test_input, test_output)\n",
        "    print('\\nTesting Accuracy = {}'.format(to_percent(test_acc)))\n",
        "    return model"
      ],
      "execution_count": null,
      "outputs": []
    },
    {
      "cell_type": "code",
      "metadata": {
        "colab": {
          "base_uri": "https://localhost:8080/",
          "height": 1000
        },
        "id": "rneEe7jRItSM",
        "outputId": "ed33be85-981b-49f3-8bad-5385246fe0c2"
      },
      "source": [
        "model = train_model(FedResilience_title1, input, output1, test_input, test_output1)\n"
      ],
      "execution_count": null,
      "outputs": [
        {
          "output_type": "stream",
          "text": [
            "/root/.local/lib/python3.7/site-packages/torch/nn/_reduction.py:43: UserWarning: size_average and reduce args will be deprecated, please use reduction='mean' instead.\n",
            "  warnings.warn(warning.format(ret))\n"
          ],
          "name": "stderr"
        },
        {
          "output_type": "stream",
          "text": [
            "iteration=0, loss=1.8349, train_acc=75335.25%\n",
            "iteration=10, loss=0.8816, train_acc=75300.00%\n",
            "iteration=20, loss=0.8803, train_acc=75305.88%\n",
            "iteration=30, loss=0.8780, train_acc=75305.88%\n",
            "iteration=40, loss=0.8756, train_acc=75305.88%\n",
            "iteration=50, loss=0.8732, train_acc=75305.88%\n",
            "iteration=60, loss=0.8709, train_acc=75305.88%\n",
            "iteration=70, loss=0.8686, train_acc=75317.62%\n",
            "iteration=80, loss=0.8664, train_acc=75335.25%\n",
            "iteration=90, loss=0.8641, train_acc=75335.25%\n",
            "iteration=100, loss=0.8619, train_acc=75335.25%\n",
            "iteration=110, loss=0.8597, train_acc=75370.50%\n",
            "iteration=120, loss=0.8575, train_acc=75370.50%\n",
            "iteration=130, loss=0.8554, train_acc=75376.38%\n",
            "iteration=140, loss=0.8532, train_acc=75429.25%\n",
            "iteration=150, loss=0.8511, train_acc=75429.25%\n",
            "iteration=160, loss=0.8491, train_acc=75470.38%\n",
            "iteration=170, loss=0.8470, train_acc=75470.38%\n",
            "iteration=180, loss=0.8450, train_acc=75470.38%\n",
            "iteration=190, loss=0.8429, train_acc=75488.00%\n",
            "iteration=200, loss=0.8410, train_acc=75493.88%\n",
            "iteration=210, loss=0.8390, train_acc=75505.62%\n",
            "iteration=220, loss=0.8370, train_acc=75517.38%\n",
            "iteration=230, loss=0.8351, train_acc=75576.12%\n",
            "iteration=240, loss=0.8332, train_acc=75617.25%\n",
            "iteration=250, loss=0.8313, train_acc=75617.25%\n",
            "iteration=260, loss=0.8295, train_acc=75670.12%\n",
            "iteration=270, loss=0.8276, train_acc=75676.00%\n",
            "iteration=280, loss=0.8258, train_acc=75699.50%\n",
            "iteration=290, loss=0.8240, train_acc=75699.50%\n",
            "iteration=300, loss=0.8222, train_acc=75740.62%\n",
            "iteration=310, loss=0.8204, train_acc=75740.62%\n",
            "iteration=320, loss=0.8187, train_acc=75740.62%\n",
            "iteration=330, loss=0.8170, train_acc=75758.25%\n",
            "iteration=340, loss=0.8153, train_acc=75840.50%\n",
            "iteration=350, loss=0.8136, train_acc=75840.50%\n",
            "iteration=360, loss=0.8119, train_acc=75881.62%\n",
            "iteration=370, loss=0.8103, train_acc=75899.25%\n",
            "iteration=380, loss=0.8086, train_acc=75940.38%\n",
            "iteration=390, loss=0.8070, train_acc=75940.38%\n",
            "iteration=400, loss=0.8054, train_acc=75952.12%\n",
            "iteration=410, loss=0.8039, train_acc=75958.00%\n",
            "iteration=420, loss=0.8023, train_acc=76005.00%\n",
            "iteration=430, loss=0.8007, train_acc=76046.12%\n",
            "iteration=440, loss=0.7992, train_acc=76052.00%\n",
            "iteration=450, loss=0.7977, train_acc=76069.62%\n",
            "iteration=460, loss=0.7962, train_acc=76069.62%\n",
            "iteration=470, loss=0.7947, train_acc=76069.62%\n",
            "iteration=480, loss=0.7933, train_acc=76157.75%\n",
            "iteration=490, loss=0.7918, train_acc=76157.75%\n",
            "iteration=500, loss=0.7904, train_acc=76157.75%\n",
            "iteration=510, loss=0.7890, train_acc=76157.75%\n",
            "iteration=520, loss=0.7876, train_acc=76157.75%\n",
            "iteration=530, loss=0.7862, train_acc=76157.75%\n",
            "iteration=540, loss=0.7848, train_acc=76240.00%\n",
            "iteration=550, loss=0.7835, train_acc=76240.00%\n",
            "iteration=560, loss=0.7821, train_acc=76240.00%\n",
            "iteration=570, loss=0.7808, train_acc=76251.75%\n",
            "iteration=580, loss=0.7795, train_acc=76251.75%\n",
            "iteration=590, loss=0.7782, train_acc=76292.88%\n",
            "iteration=600, loss=0.7769, train_acc=76345.75%\n",
            "iteration=610, loss=0.7756, train_acc=76351.62%\n",
            "iteration=620, loss=0.7744, train_acc=76351.62%\n",
            "iteration=630, loss=0.7731, train_acc=76351.62%\n",
            "iteration=640, loss=0.7719, train_acc=76351.62%\n",
            "iteration=650, loss=0.7707, train_acc=76351.62%\n",
            "iteration=660, loss=0.7695, train_acc=76375.12%\n",
            "iteration=670, loss=0.7683, train_acc=76404.50%\n",
            "iteration=680, loss=0.7671, train_acc=76404.50%\n",
            "iteration=690, loss=0.7659, train_acc=76422.12%\n",
            "iteration=700, loss=0.7648, train_acc=76422.12%\n",
            "iteration=710, loss=0.7636, train_acc=76422.12%\n",
            "iteration=720, loss=0.7625, train_acc=76422.12%\n",
            "iteration=730, loss=0.7614, train_acc=76475.00%\n",
            "iteration=740, loss=0.7602, train_acc=76486.75%\n",
            "iteration=750, loss=0.7591, train_acc=76522.00%\n",
            "iteration=760, loss=0.7580, train_acc=76522.00%\n",
            "iteration=770, loss=0.7570, train_acc=76522.00%\n",
            "iteration=780, loss=0.7559, train_acc=76522.00%\n",
            "iteration=790, loss=0.7548, train_acc=76522.00%\n",
            "iteration=800, loss=0.7538, train_acc=76522.00%\n",
            "iteration=810, loss=0.7528, train_acc=76592.50%\n",
            "iteration=820, loss=0.7517, train_acc=76592.50%\n",
            "iteration=830, loss=0.7507, train_acc=76592.50%\n",
            "iteration=840, loss=0.7497, train_acc=76627.75%\n",
            "iteration=850, loss=0.7487, train_acc=76627.75%\n",
            "iteration=860, loss=0.7477, train_acc=76627.75%\n",
            "iteration=870, loss=0.7467, train_acc=76627.75%\n",
            "iteration=880, loss=0.7458, train_acc=76627.75%\n",
            "iteration=890, loss=0.7448, train_acc=76627.75%\n",
            "iteration=900, loss=0.7439, train_acc=76680.62%\n",
            "iteration=910, loss=0.7429, train_acc=76680.62%\n",
            "iteration=920, loss=0.7420, train_acc=76680.62%\n",
            "iteration=930, loss=0.7411, train_acc=76680.62%\n",
            "iteration=940, loss=0.7402, train_acc=76721.75%\n",
            "iteration=950, loss=0.7392, train_acc=76721.75%\n",
            "iteration=960, loss=0.7384, train_acc=76721.75%\n",
            "iteration=970, loss=0.7375, train_acc=76721.75%\n",
            "iteration=980, loss=0.7366, train_acc=76721.75%\n",
            "iteration=990, loss=0.7357, train_acc=76721.75%\n",
            "iteration=1000, loss=0.7348, train_acc=76727.62%\n",
            "iteration=1010, loss=0.7340, train_acc=76745.25%\n",
            "iteration=1020, loss=0.7331, train_acc=76745.25%\n",
            "iteration=1030, loss=0.7323, train_acc=76745.25%\n",
            "iteration=1040, loss=0.7315, train_acc=76757.00%\n",
            "iteration=1050, loss=0.7306, train_acc=76757.00%\n",
            "iteration=1060, loss=0.7298, train_acc=76757.00%\n",
            "iteration=1070, loss=0.7290, train_acc=76757.00%\n",
            "iteration=1080, loss=0.7282, train_acc=76757.00%\n",
            "iteration=1090, loss=0.7274, train_acc=76757.00%\n",
            "iteration=1100, loss=0.7266, train_acc=76757.00%\n",
            "iteration=1110, loss=0.7259, train_acc=76792.25%\n",
            "iteration=1120, loss=0.7251, train_acc=76792.25%\n",
            "iteration=1130, loss=0.7243, train_acc=76792.25%\n",
            "iteration=1140, loss=0.7236, train_acc=76792.25%\n",
            "iteration=1150, loss=0.7228, train_acc=76792.25%\n",
            "iteration=1160, loss=0.7221, train_acc=76821.62%\n",
            "iteration=1170, loss=0.7213, train_acc=76821.62%\n",
            "iteration=1180, loss=0.7206, train_acc=76821.62%\n",
            "iteration=1190, loss=0.7199, train_acc=76821.62%\n",
            "iteration=1200, loss=0.7192, train_acc=76827.50%\n",
            "iteration=1210, loss=0.7184, train_acc=76827.50%\n",
            "iteration=1220, loss=0.7177, train_acc=76833.38%\n",
            "iteration=1230, loss=0.7170, train_acc=76892.12%\n",
            "iteration=1240, loss=0.7163, train_acc=76892.12%\n",
            "iteration=1250, loss=0.7156, train_acc=76892.12%\n",
            "iteration=1260, loss=0.7150, train_acc=76892.12%\n",
            "iteration=1270, loss=0.7143, train_acc=76892.12%\n",
            "iteration=1280, loss=0.7136, train_acc=76892.12%\n",
            "iteration=1290, loss=0.7130, train_acc=76892.12%\n",
            "iteration=1300, loss=0.7123, train_acc=76915.62%\n",
            "iteration=1310, loss=0.7116, train_acc=76915.62%\n",
            "iteration=1320, loss=0.7110, train_acc=76915.62%\n",
            "iteration=1330, loss=0.7104, train_acc=76915.62%\n",
            "iteration=1340, loss=0.7097, train_acc=76915.62%\n",
            "iteration=1350, loss=0.7091, train_acc=76915.62%\n",
            "iteration=1360, loss=0.7085, train_acc=76915.62%\n",
            "iteration=1370, loss=0.7078, train_acc=76915.62%\n",
            "iteration=1380, loss=0.7072, train_acc=76939.12%\n",
            "iteration=1390, loss=0.7066, train_acc=76939.12%\n",
            "iteration=1400, loss=0.7060, train_acc=76939.12%\n",
            "iteration=1410, loss=0.7054, train_acc=76945.00%\n",
            "iteration=1420, loss=0.7048, train_acc=76945.00%\n",
            "iteration=1430, loss=0.7042, train_acc=76945.00%\n",
            "iteration=1440, loss=0.7037, train_acc=76945.00%\n",
            "iteration=1450, loss=0.7031, train_acc=76962.62%\n",
            "iteration=1460, loss=0.7025, train_acc=76968.50%\n",
            "iteration=1470, loss=0.7019, train_acc=76968.50%\n",
            "iteration=1480, loss=0.7014, train_acc=76980.25%\n",
            "iteration=1490, loss=0.7008, train_acc=76980.25%\n",
            "iteration=1500, loss=0.7002, train_acc=76980.25%\n",
            "iteration=1510, loss=0.6997, train_acc=76980.25%\n",
            "iteration=1520, loss=0.6992, train_acc=76980.25%\n",
            "iteration=1530, loss=0.6986, train_acc=76986.12%\n",
            "iteration=1540, loss=0.6981, train_acc=76986.12%\n",
            "iteration=1550, loss=0.6975, train_acc=77050.75%\n",
            "iteration=1560, loss=0.6970, train_acc=77050.75%\n",
            "iteration=1570, loss=0.6965, train_acc=77050.75%\n",
            "iteration=1580, loss=0.6960, train_acc=77050.75%\n",
            "iteration=1590, loss=0.6955, train_acc=77050.75%\n",
            "iteration=1600, loss=0.6949, train_acc=77050.75%\n",
            "iteration=1610, loss=0.6944, train_acc=77050.75%\n",
            "iteration=1620, loss=0.6939, train_acc=77050.75%\n",
            "iteration=1630, loss=0.6934, train_acc=77074.25%\n",
            "iteration=1640, loss=0.6929, train_acc=77074.25%\n",
            "iteration=1650, loss=0.6924, train_acc=77074.25%\n",
            "iteration=1660, loss=0.6920, train_acc=77074.25%\n",
            "iteration=1670, loss=0.6915, train_acc=77091.88%\n",
            "iteration=1680, loss=0.6910, train_acc=77091.88%\n",
            "iteration=1690, loss=0.6905, train_acc=77091.88%\n",
            "iteration=1700, loss=0.6900, train_acc=77091.88%\n",
            "iteration=1710, loss=0.6896, train_acc=77091.88%\n",
            "iteration=1720, loss=0.6891, train_acc=77091.88%\n",
            "iteration=1730, loss=0.6886, train_acc=77091.88%\n",
            "iteration=1740, loss=0.6882, train_acc=77091.88%\n",
            "iteration=1750, loss=0.6877, train_acc=77150.62%\n",
            "iteration=1760, loss=0.6873, train_acc=77150.62%\n",
            "iteration=1770, loss=0.6868, train_acc=77150.62%\n",
            "iteration=1780, loss=0.6864, train_acc=77168.25%\n",
            "iteration=1790, loss=0.6860, train_acc=77168.25%\n",
            "iteration=1800, loss=0.6855, train_acc=77168.25%\n",
            "iteration=1810, loss=0.6851, train_acc=77168.25%\n",
            "iteration=1820, loss=0.6847, train_acc=77168.25%\n",
            "iteration=1830, loss=0.6842, train_acc=77180.00%\n",
            "iteration=1840, loss=0.6838, train_acc=77180.00%\n",
            "iteration=1850, loss=0.6834, train_acc=77180.00%\n",
            "iteration=1860, loss=0.6830, train_acc=77180.00%\n",
            "iteration=1870, loss=0.6826, train_acc=77180.00%\n",
            "iteration=1880, loss=0.6821, train_acc=77180.00%\n",
            "iteration=1890, loss=0.6817, train_acc=77180.00%\n",
            "iteration=1900, loss=0.6813, train_acc=77197.62%\n",
            "iteration=1910, loss=0.6809, train_acc=77197.62%\n",
            "iteration=1920, loss=0.6805, train_acc=77197.62%\n",
            "iteration=1930, loss=0.6801, train_acc=77203.50%\n",
            "iteration=1940, loss=0.6797, train_acc=77203.50%\n",
            "iteration=1950, loss=0.6794, train_acc=77203.50%\n",
            "iteration=1960, loss=0.6790, train_acc=77203.50%\n",
            "iteration=1970, loss=0.6786, train_acc=77203.50%\n",
            "iteration=1980, loss=0.6782, train_acc=77215.25%\n",
            "iteration=1990, loss=0.6778, train_acc=77215.25%\n"
          ],
          "name": "stdout"
        },
        {
          "output_type": "display_data",
          "data": {
            "image/png": "[encoded data removed]",
            "text/plain": [
              "<Figure size 432x288 with 1 Axes>"
            ]
          },
          "metadata": {
            "tags": [],
            "needs_background": "light"
          }
        },
        {
          "output_type": "display_data",
          "data": {
            "image/png": "[encoded data removed]",
            "text/plain": [
              "<Figure size 432x288 with 1 Axes>"
            ]
          },
          "metadata": {
            "tags": [],
            "needs_background": "light"
          }
        },
        {
          "output_type": "stream",
          "text": [
            "\n",
            "Testing Accuracy = 53.75%\n"
          ],
          "name": "stdout"
        }
      ]
    },
    {
      "cell_type": "code",
      "metadata": {
        "colab": {
          "base_uri": "https://localhost:8080/",
          "height": 1000
        },
        "id": "furRO-lqIxpQ",
        "outputId": "a4c68201-1327-45db-834d-53a7fe3e10f0"
      },
      "source": [
        "model = train_model(FedResilience_title2, input, output2, test_input, test_output2)\n"
      ],
      "execution_count": null,
      "outputs": [
        {
          "output_type": "stream",
          "text": [
            "iteration=0, loss=1.3269, train_acc=127344.50%\n",
            "iteration=10, loss=0.6056, train_acc=120393.12%\n",
            "iteration=20, loss=0.5992, train_acc=120831.50%\n",
            "iteration=30, loss=0.5930, train_acc=120831.50%\n",
            "iteration=40, loss=0.5869, train_acc=121770.88%\n",
            "iteration=50, loss=0.5809, train_acc=121770.88%\n",
            "iteration=60, loss=0.5750, train_acc=122209.25%\n",
            "iteration=70, loss=0.5692, train_acc=122710.25%\n",
            "iteration=80, loss=0.5635, train_acc=123587.00%\n",
            "iteration=90, loss=0.5579, train_acc=123837.50%\n",
            "iteration=100, loss=0.5524, train_acc=124275.88%\n",
            "iteration=110, loss=0.5470, train_acc=124401.12%\n",
            "iteration=120, loss=0.5417, train_acc=124964.75%\n"
          ],
          "name": "stdout"
        },
        {
          "output_type": "stream",
          "text": [
            "/root/.local/lib/python3.7/site-packages/torch/nn/_reduction.py:43: UserWarning: size_average and reduce args will be deprecated, please use reduction='mean' instead.\n",
            "  warnings.warn(warning.format(ret))\n"
          ],
          "name": "stderr"
        },
        {
          "output_type": "stream",
          "text": [
            "iteration=130, loss=0.5364, train_acc=124964.75%\n",
            "iteration=140, loss=0.5313, train_acc=125716.25%\n",
            "iteration=150, loss=0.5263, train_acc=125716.25%\n",
            "iteration=160, loss=0.5213, train_acc=126154.62%\n",
            "iteration=170, loss=0.5165, train_acc=126593.00%\n",
            "iteration=180, loss=0.5117, train_acc=126655.62%\n",
            "iteration=190, loss=0.5070, train_acc=127782.88%\n",
            "iteration=200, loss=0.5024, train_acc=127782.88%\n",
            "iteration=210, loss=0.4978, train_acc=128158.62%\n",
            "iteration=220, loss=0.4934, train_acc=128534.38%\n",
            "iteration=230, loss=0.4890, train_acc=128534.38%\n",
            "iteration=240, loss=0.4847, train_acc=128534.38%\n",
            "iteration=250, loss=0.4805, train_acc=128471.75%\n",
            "iteration=260, loss=0.4763, train_acc=128471.75%\n",
            "iteration=270, loss=0.4722, train_acc=128471.75%\n",
            "iteration=280, loss=0.4682, train_acc=128659.62%\n",
            "iteration=290, loss=0.4643, train_acc=128784.88%\n",
            "iteration=300, loss=0.4604, train_acc=128784.88%\n",
            "iteration=310, loss=0.4566, train_acc=128784.88%\n",
            "iteration=320, loss=0.4529, train_acc=128597.00%\n",
            "iteration=330, loss=0.4492, train_acc=128722.25%\n",
            "iteration=340, loss=0.4456, train_acc=128722.25%\n",
            "iteration=350, loss=0.4420, train_acc=128722.25%\n",
            "iteration=360, loss=0.4385, train_acc=128972.75%\n",
            "iteration=370, loss=0.4351, train_acc=128972.75%\n",
            "iteration=380, loss=0.4317, train_acc=128972.75%\n",
            "iteration=390, loss=0.4284, train_acc=128659.62%\n",
            "iteration=400, loss=0.4251, train_acc=128659.62%\n",
            "iteration=410, loss=0.4219, train_acc=128659.62%\n",
            "iteration=420, loss=0.4188, train_acc=128659.62%\n",
            "iteration=430, loss=0.4156, train_acc=128722.25%\n",
            "iteration=440, loss=0.4126, train_acc=128722.25%\n",
            "iteration=450, loss=0.4096, train_acc=128471.75%\n",
            "iteration=460, loss=0.4066, train_acc=128471.75%\n",
            "iteration=470, loss=0.4037, train_acc=128471.75%\n",
            "iteration=480, loss=0.4008, train_acc=128471.75%\n",
            "iteration=490, loss=0.3980, train_acc=128471.75%\n",
            "iteration=500, loss=0.3952, train_acc=128534.38%\n",
            "iteration=510, loss=0.3925, train_acc=128346.50%\n",
            "iteration=520, loss=0.3898, train_acc=128346.50%\n",
            "iteration=530, loss=0.3871, train_acc=128346.50%\n",
            "iteration=540, loss=0.3845, train_acc=128346.50%\n",
            "iteration=550, loss=0.3820, train_acc=128346.50%\n",
            "iteration=560, loss=0.3794, train_acc=128409.12%\n",
            "iteration=570, loss=0.3769, train_acc=128158.62%\n",
            "iteration=580, loss=0.3745, train_acc=128158.62%\n",
            "iteration=590, loss=0.3720, train_acc=128158.62%\n",
            "iteration=600, loss=0.3697, train_acc=128158.62%\n",
            "iteration=610, loss=0.3673, train_acc=128033.38%\n",
            "iteration=620, loss=0.3650, train_acc=128158.62%\n",
            "iteration=630, loss=0.3627, train_acc=127970.75%\n",
            "iteration=640, loss=0.3605, train_acc=127970.75%\n",
            "iteration=650, loss=0.3582, train_acc=127970.75%\n",
            "iteration=660, loss=0.3561, train_acc=127970.75%\n",
            "iteration=670, loss=0.3539, train_acc=128033.38%\n",
            "iteration=680, loss=0.3518, train_acc=127970.75%\n",
            "iteration=690, loss=0.3497, train_acc=127970.75%\n",
            "iteration=700, loss=0.3476, train_acc=127970.75%\n",
            "iteration=710, loss=0.3456, train_acc=127970.75%\n",
            "iteration=720, loss=0.3436, train_acc=127845.50%\n",
            "iteration=730, loss=0.3416, train_acc=127845.50%\n",
            "iteration=740, loss=0.3396, train_acc=127720.25%\n",
            "iteration=750, loss=0.3377, train_acc=127720.25%\n",
            "iteration=760, loss=0.3358, train_acc=127720.25%\n",
            "iteration=770, loss=0.3339, train_acc=127595.00%\n",
            "iteration=780, loss=0.3321, train_acc=127595.00%\n",
            "iteration=790, loss=0.3302, train_acc=127469.75%\n",
            "iteration=800, loss=0.3284, train_acc=127469.75%\n",
            "iteration=810, loss=0.3266, train_acc=127469.75%\n",
            "iteration=820, loss=0.3249, train_acc=127469.75%\n",
            "iteration=830, loss=0.3231, train_acc=127469.75%\n",
            "iteration=840, loss=0.3214, train_acc=127407.12%\n",
            "iteration=850, loss=0.3197, train_acc=127407.12%\n",
            "iteration=860, loss=0.3181, train_acc=127407.12%\n",
            "iteration=870, loss=0.3164, train_acc=127407.12%\n",
            "iteration=880, loss=0.3148, train_acc=127407.12%\n",
            "iteration=890, loss=0.3132, train_acc=127156.62%\n",
            "iteration=900, loss=0.3116, train_acc=127156.62%\n",
            "iteration=910, loss=0.3100, train_acc=127156.62%\n",
            "iteration=920, loss=0.3084, train_acc=127156.62%\n",
            "iteration=930, loss=0.3069, train_acc=127156.62%\n",
            "iteration=940, loss=0.3054, train_acc=126968.75%\n",
            "iteration=950, loss=0.3039, train_acc=126968.75%\n",
            "iteration=960, loss=0.3024, train_acc=126968.75%\n",
            "iteration=970, loss=0.3009, train_acc=126968.75%\n",
            "iteration=980, loss=0.2995, train_acc=126968.75%\n",
            "iteration=990, loss=0.2980, train_acc=126655.62%\n",
            "iteration=1000, loss=0.2966, train_acc=126655.62%\n",
            "iteration=1010, loss=0.2952, train_acc=126655.62%\n",
            "iteration=1020, loss=0.2938, train_acc=126593.00%\n",
            "iteration=1030, loss=0.2925, train_acc=126593.00%\n",
            "iteration=1040, loss=0.2911, train_acc=125841.50%\n",
            "iteration=1050, loss=0.2898, train_acc=125841.50%\n",
            "iteration=1060, loss=0.2884, train_acc=125841.50%\n",
            "iteration=1070, loss=0.2871, train_acc=125841.50%\n",
            "iteration=1080, loss=0.2858, train_acc=125841.50%\n",
            "iteration=1090, loss=0.2845, train_acc=125340.50%\n",
            "iteration=1100, loss=0.2833, train_acc=125340.50%\n",
            "iteration=1110, loss=0.2820, train_acc=125340.50%\n",
            "iteration=1120, loss=0.2808, train_acc=125340.50%\n",
            "iteration=1130, loss=0.2795, train_acc=125090.00%\n",
            "iteration=1140, loss=0.2783, train_acc=125090.00%\n",
            "iteration=1150, loss=0.2771, train_acc=124589.00%\n",
            "iteration=1160, loss=0.2759, train_acc=124589.00%\n",
            "iteration=1170, loss=0.2747, train_acc=124589.00%\n",
            "iteration=1180, loss=0.2735, train_acc=124088.00%\n",
            "iteration=1190, loss=0.2724, train_acc=124088.00%\n",
            "iteration=1200, loss=0.2712, train_acc=123774.88%\n",
            "iteration=1210, loss=0.2701, train_acc=123774.88%\n",
            "iteration=1220, loss=0.2690, train_acc=123273.88%\n",
            "iteration=1230, loss=0.2679, train_acc=123273.88%\n",
            "iteration=1240, loss=0.2668, train_acc=122960.75%\n",
            "iteration=1250, loss=0.2657, train_acc=122960.75%\n",
            "iteration=1260, loss=0.2646, train_acc=122960.75%\n",
            "iteration=1270, loss=0.2635, train_acc=122334.50%\n",
            "iteration=1280, loss=0.2624, train_acc=122209.25%\n",
            "iteration=1290, loss=0.2614, train_acc=122209.25%\n",
            "iteration=1300, loss=0.2603, train_acc=122209.25%\n",
            "iteration=1310, loss=0.2593, train_acc=121457.75%\n",
            "iteration=1320, loss=0.2583, train_acc=121457.75%\n",
            "iteration=1330, loss=0.2573, train_acc=121082.00%\n",
            "iteration=1340, loss=0.2563, train_acc=121082.00%\n",
            "iteration=1350, loss=0.2553, train_acc=121082.00%\n",
            "iteration=1360, loss=0.2543, train_acc=120581.00%\n",
            "iteration=1370, loss=0.2533, train_acc=120581.00%\n",
            "iteration=1380, loss=0.2523, train_acc=120581.00%\n",
            "iteration=1390, loss=0.2514, train_acc=120581.00%\n",
            "iteration=1400, loss=0.2504, train_acc=120205.25%\n",
            "iteration=1410, loss=0.2495, train_acc=119829.50%\n",
            "iteration=1420, loss=0.2485, train_acc=119829.50%\n",
            "iteration=1430, loss=0.2476, train_acc=119829.50%\n",
            "iteration=1440, loss=0.2467, train_acc=119140.62%\n",
            "iteration=1450, loss=0.2458, train_acc=119140.62%\n",
            "iteration=1460, loss=0.2449, train_acc=119140.62%\n",
            "iteration=1470, loss=0.2440, train_acc=119140.62%\n",
            "iteration=1480, loss=0.2431, train_acc=119140.62%\n",
            "iteration=1490, loss=0.2422, train_acc=119140.62%\n",
            "iteration=1500, loss=0.2413, train_acc=119140.62%\n",
            "iteration=1510, loss=0.2405, train_acc=119140.62%\n",
            "iteration=1520, loss=0.2396, train_acc=119140.62%\n",
            "iteration=1530, loss=0.2387, train_acc=118952.75%\n",
            "iteration=1540, loss=0.2379, train_acc=118952.75%\n",
            "iteration=1550, loss=0.2370, train_acc=118827.50%\n",
            "iteration=1560, loss=0.2362, train_acc=118827.50%\n",
            "iteration=1570, loss=0.2354, train_acc=118639.62%\n",
            "iteration=1580, loss=0.2346, train_acc=118639.62%\n",
            "iteration=1590, loss=0.2338, train_acc=118639.62%\n",
            "iteration=1600, loss=0.2329, train_acc=118639.62%\n",
            "iteration=1610, loss=0.2321, train_acc=117762.88%\n",
            "iteration=1620, loss=0.2313, train_acc=117762.88%\n",
            "iteration=1630, loss=0.2306, train_acc=117762.88%\n",
            "iteration=1640, loss=0.2298, train_acc=117762.88%\n",
            "iteration=1650, loss=0.2290, train_acc=117637.62%\n",
            "iteration=1660, loss=0.2282, train_acc=117324.50%\n",
            "iteration=1670, loss=0.2275, train_acc=117324.50%\n",
            "iteration=1680, loss=0.2267, train_acc=117324.50%\n",
            "iteration=1690, loss=0.2259, train_acc=116510.38%\n",
            "iteration=1700, loss=0.2252, train_acc=116134.62%\n",
            "iteration=1710, loss=0.2244, train_acc=116134.62%\n",
            "iteration=1720, loss=0.2237, train_acc=115884.12%\n",
            "iteration=1730, loss=0.2230, train_acc=115696.25%\n",
            "iteration=1740, loss=0.2223, train_acc=115696.25%\n",
            "iteration=1750, loss=0.2215, train_acc=115696.25%\n",
            "iteration=1760, loss=0.2208, train_acc=115696.25%\n",
            "iteration=1770, loss=0.2201, train_acc=114631.62%\n",
            "iteration=1780, loss=0.2194, train_acc=114631.62%\n",
            "iteration=1790, loss=0.2187, train_acc=114631.62%\n",
            "iteration=1800, loss=0.2180, train_acc=113942.75%\n",
            "iteration=1810, loss=0.2173, train_acc=113880.12%\n",
            "iteration=1820, loss=0.2166, train_acc=113880.12%\n",
            "iteration=1830, loss=0.2159, train_acc=113880.12%\n",
            "iteration=1840, loss=0.2153, train_acc=113567.00%\n",
            "iteration=1850, loss=0.2146, train_acc=113567.00%\n",
            "iteration=1860, loss=0.2139, train_acc=113567.00%\n",
            "iteration=1870, loss=0.2133, train_acc=113504.38%\n",
            "iteration=1880, loss=0.2126, train_acc=113253.88%\n",
            "iteration=1890, loss=0.2119, train_acc=113253.88%\n",
            "iteration=1900, loss=0.2113, train_acc=113253.88%\n",
            "iteration=1910, loss=0.2106, train_acc=113253.88%\n",
            "iteration=1920, loss=0.2100, train_acc=112001.38%\n",
            "iteration=1930, loss=0.2094, train_acc=112001.38%\n",
            "iteration=1940, loss=0.2087, train_acc=112001.38%\n",
            "iteration=1950, loss=0.2081, train_acc=111938.75%\n",
            "iteration=1960, loss=0.2075, train_acc=111938.75%\n",
            "iteration=1970, loss=0.2069, train_acc=111938.75%\n",
            "iteration=1980, loss=0.2062, train_acc=111938.75%\n",
            "iteration=1990, loss=0.2056, train_acc=111750.88%\n"
          ],
          "name": "stdout"
        },
        {
          "output_type": "display_data",
          "data": {
            "image/png": "[encoded data removed]",
            "text/plain": [
              "<Figure size 432x288 with 1 Axes>"
            ]
          },
          "metadata": {
            "tags": [],
            "needs_background": "light"
          }
        },
        {
          "output_type": "display_data",
          "data": {
            "image/png": "[encoded data removed]",
            "text/plain": [
              "<Figure size 432x288 with 1 Axes>"
            ]
          },
          "metadata": {
            "tags": [],
            "needs_background": "light"
          }
        },
        {
          "output_type": "stream",
          "text": [
            "\n",
            "Testing Accuracy = 99.75%\n"
          ],
          "name": "stdout"
        }
      ]
    },
    {
      "cell_type": "code",
      "metadata": {
        "id": "8xbVXnvw900w"
      },
      "source": [
        "#pip install --user syft==0.2.9"
      ],
      "execution_count": null,
      "outputs": []
    },
    {
      "cell_type": "code",
      "metadata": {
        "id": "DfLNNr7mJK1b"
      },
      "source": [
        "import syft as sy\n",
        "import torch as th\n",
        "hook = sy.TorchHook(th)\n",
        "from torch import nn, optim\n"
      ],
      "execution_count": null,
      "outputs": []
    },
    {
      "cell_type": "code",
      "metadata": {
        "id": "ytqEVDUSJWGR"
      },
      "source": [
        "n_Agents = 5\n",
        "Agents = []\n"
      ],
      "execution_count": null,
      "outputs": []
    },
    {
      "cell_type": "code",
      "metadata": {
        "id": "c9T-itFtJe1N"
      },
      "source": [
        "for i in range(n_Agents):\n",
        "    Agent_name = 'Agent{}'.format(i)\n",
        "    Agent = sy.VirtualWorker(hook, id = Agent_name)\n",
        "    Agents.append(Agent)\n",
        "secure_worker = sy.VirtualWorker(hook, id=\"secure_worker\")"
      ],
      "execution_count": null,
      "outputs": []
    },
    {
      "cell_type": "code",
      "metadata": {
        "colab": {
          "base_uri": "https://localhost:8080/"
        },
        "id": "5gjOhWmmJhnZ",
        "outputId": "96fcf055-23d8-447c-cbbc-cf905cbebc5b"
      },
      "source": [
        "def get_workers_names(workers):\n",
        "    return [worker.id for worker in workers]\n",
        "\n",
        "def add_and_print_workers(worker, workers):\n",
        "    print('workers of {} = {}'.format(worker.id, get_workers_names(workers)))\n",
        "    worker.add_workers(workers)\n",
        "\n",
        "for i in range(n_Agents):\n",
        "    workers = [Agents[i2] for i2 in range(n_Agents) if i2 != i] + [secure_worker]\n",
        "    add_and_print_workers(Agents[i], workers)\n",
        "add_and_print_workers(secure_worker, Agents)"
      ],
      "execution_count": null,
      "outputs": [
        {
          "output_type": "stream",
          "text": [
            "Worker Agent1 already exists. Replacing old worker which could cause                     unexpected behavior\n",
            "Worker Agent2 already exists. Replacing old worker which could cause                     unexpected behavior\n",
            "Worker Agent3 already exists. Replacing old worker which could cause                     unexpected behavior\n",
            "Worker Agent4 already exists. Replacing old worker which could cause                     unexpected behavior\n",
            "Worker secure_worker already exists. Replacing old worker which could cause                     unexpected behavior\n",
            "Worker Agent0 already exists. Replacing old worker which could cause                     unexpected behavior\n",
            "Worker Agent2 already exists. Replacing old worker which could cause                     unexpected behavior\n",
            "Worker Agent3 already exists. Replacing old worker which could cause                     unexpected behavior\n",
            "Worker Agent4 already exists. Replacing old worker which could cause                     unexpected behavior\n",
            "Worker secure_worker already exists. Replacing old worker which could cause                     unexpected behavior\n",
            "Worker Agent0 already exists. Replacing old worker which could cause                     unexpected behavior\n",
            "Worker Agent1 already exists. Replacing old worker which could cause                     unexpected behavior\n",
            "Worker Agent3 already exists. Replacing old worker which could cause                     unexpected behavior\n",
            "Worker Agent4 already exists. Replacing old worker which could cause                     unexpected behavior\n",
            "Worker secure_worker already exists. Replacing old worker which could cause                     unexpected behavior\n",
            "Worker Agent0 already exists. Replacing old worker which could cause                     unexpected behavior\n",
            "Worker Agent1 already exists. Replacing old worker which could cause                     unexpected behavior\n",
            "Worker Agent2 already exists. Replacing old worker which could cause                     unexpected behavior\n",
            "Worker Agent4 already exists. Replacing old worker which could cause                     unexpected behavior\n",
            "Worker secure_worker already exists. Replacing old worker which could cause                     unexpected behavior\n",
            "Worker Agent0 already exists. Replacing old worker which could cause                     unexpected behavior\n",
            "Worker Agent1 already exists. Replacing old worker which could cause                     unexpected behavior\n",
            "Worker Agent2 already exists. Replacing old worker which could cause                     unexpected behavior\n",
            "Worker Agent3 already exists. Replacing old worker which could cause                     unexpected behavior\n",
            "Worker secure_worker already exists. Replacing old worker which could cause                     unexpected behavior\n",
            "Worker Agent0 already exists. Replacing old worker which could cause                     unexpected behavior\n",
            "Worker Agent1 already exists. Replacing old worker which could cause                     unexpected behavior\n",
            "Worker Agent2 already exists. Replacing old worker which could cause                     unexpected behavior\n",
            "Worker Agent3 already exists. Replacing old worker which could cause                     unexpected behavior\n",
            "Worker Agent4 already exists. Replacing old worker which could cause                     unexpected behavior\n"
          ],
          "name": "stderr"
        },
        {
          "output_type": "stream",
          "text": [
            "workers of Agent0 = ['Agent1', 'Agent2', 'Agent3', 'Agent4', 'secure_worker']\n",
            "workers of Agent1 = ['Agent0', 'Agent2', 'Agent3', 'Agent4', 'secure_worker']\n",
            "workers of Agent2 = ['Agent0', 'Agent1', 'Agent3', 'Agent4', 'secure_worker']\n",
            "workers of Agent3 = ['Agent0', 'Agent1', 'Agent2', 'Agent4', 'secure_worker']\n",
            "workers of Agent4 = ['Agent0', 'Agent1', 'Agent2', 'Agent3', 'secure_worker']\n",
            "workers of secure_worker = ['Agent0', 'Agent1', 'Agent2', 'Agent3', 'Agent4']\n"
          ],
          "name": "stdout"
        }
      ]
    },
    {
      "cell_type": "code",
      "metadata": {
        "colab": {
          "base_uri": "https://localhost:8080/"
        },
        "id": "wFJcYHf2JnxD",
        "outputId": "030a3846-bf74-4e60-a4d8-6c2717aadfcb"
      },
      "source": [
        "n_samples = train_data.shape[0]\n",
        "samples_per_Agent = int((n_samples + 0.5) / n_Agents)\n",
        "Agent_features = []\n",
        "Agent_targets1 = []\n",
        "Agent_targets2 = []\n",
        "train_data = th.tensor(train_data, dtype = torch.float32, requires_grad=True)\n",
        "for i in range(n_Agents):\n",
        "    train_data2 = train_data[i * samples_per_Agent:(i + 1) * samples_per_Agent].clone().detach().requires_grad_(True)\n",
        "    features = train_data2[:, :6].clone().detach().requires_grad_(True)\n",
        "    targets1 = train_data2[:, 6][:, None].clone().detach() \n",
        "    targets2 = train_data2[:, 7][:, None].clone().detach() \n",
        "    Agent_features.append(features.send(Agents[i]))\n",
        "    Agent_targets1.append(targets1.send(Agents[i]))\n",
        "    Agent_targets2.append(targets2.send(Agents[i]))\n",
        "\n",
        "print(model)"
      ],
      "execution_count": null,
      "outputs": [
        {
          "output_type": "stream",
          "text": [
            "LogisticRegression(\n",
            "  (linear): Linear(in_features=6, out_features=1, bias=True)\n",
            ")\n"
          ],
          "name": "stdout"
        }
      ]
    },
    {
      "cell_type": "code",
      "metadata": {
        "id": "KNOnLuDgJvLq"
      },
      "source": [
        "def plot_federated_graphs(FedResilience_title, losses, accuracies):\n",
        "    for i in range(n_Agents):\n",
        "        plt.plot(losses[i], label=f'Critical Infrastructure Agent {i}')\n",
        "    legend = plt.legend(loc='upper right', shadow=True)\n",
        "    plt.title(f\"{FedResilience_title} - Training Loss\")\n",
        "    plt.xlabel(\"Iterations\")\n",
        "    plt.ylabel(\"Training Loss\")\n",
        "    plt.show()\n",
        "    for i in range(n_Agents):\n",
        "        plt.plot(accuracies[i], label=f'Critical Infrastructure Agent {i}')\n",
        "    legend = plt.legend(loc='lower right', shadow=True)\n",
        "    plt.title(f\"{FedResilience_title} - Training Accuracy\")\n",
        "    plt.xlabel(\"Iterations\")\n",
        "    plt.ylabel(\"Training Accuracy (Percent %)\")\n",
        "    plt.show()"
      ],
      "execution_count": null,
      "outputs": []
    },
    {
      "cell_type": "code",
      "metadata": {
        "id": "sQdlpiK6Jy8F"
      },
      "source": [
        "def compute_federated_accuracy(model, input, output):\n",
        "    prediction = model(input)\n",
        "    n_samples = prediction.shape[0]\n",
        "    s = 0.\n",
        "    for i in range(n_samples):\n",
        "        p = 1. if prediction[i] >= 0.5 else 0.\n",
        "        e = 1. if p == output[i] else 0.\n",
        "        s += e\n",
        "    return 100. * s / n_samples\n",
        "\n",
        "iterations = 500 #2000\n",
        "worker_iterations = [2, 0, 0, 0, 0]\n"
      ],
      "execution_count": null,
      "outputs": []
    },
    {
      "cell_type": "code",
      "metadata": {
        "colab": {
          "base_uri": "https://localhost:8080/"
        },
        "id": "mjECoOW2vI1t",
        "outputId": "43cfe00e-551a-47c9-d444-998e0a9bfd00"
      },
      "source": [
        "worker_iterations[0]"
      ],
      "execution_count": null,
      "outputs": [
        {
          "output_type": "execute_result",
          "data": {
            "text/plain": [
              "2"
            ]
          },
          "metadata": {
            "tags": []
          },
          "execution_count": 31
        }
      ]
    },
    {
      "cell_type": "code",
      "metadata": {
        "colab": {
          "base_uri": "https://localhost:8080/"
        },
        "id": "djk7Ui5VYrzw",
        "outputId": "459551db-e9bd-484a-c7d7-738c9935bbea"
      },
      "source": [
        "from google.colab import drive\n",
        "drive.mount('/content/gdrive')"
      ],
      "execution_count": null,
      "outputs": [
        {
          "output_type": "stream",
          "text": [
            "Drive already mounted at /content/gdrive; to attempt to forcibly remount, call drive.mount(\"/content/gdrive\", force_remount=True).\n"
          ],
          "name": "stdout"
        }
      ]
    },
    {
      "cell_type": "code",
      "metadata": {
        "id": "cg6P0uIpJ1gm"
      },
      "source": [
        "def federated_learning(FedResilience_title, Agent_features, Agent_targets, test_input, test_output):\n",
        "    model = LogisticRegression()\n",
        "    \n",
        "    criterion = torch.nn.BCELoss(size_average=True)\n",
        "    optimizer = torch.optim.SGD(model.parameters(), lr=learning_rate)  \n",
        "    losses = [[] for i in range(n_Agents)]\n",
        "    accuracies = [[] for i in range(n_Agents)]\n",
        "    for iteration in range(iterations+1):\n",
        "        models = [model.copy().send(Agents[i]) for i in range(n_Agents)]\n",
        "        optimizers = [torch.optim.SGD(params = models[i].parameters(), lr = learning_rate) for i in range(n_Agents)]\n",
        "        j=-1\n",
        "        last_losses = []\n",
        "        for i in range(n_Agents):\n",
        "          j=j+1\n",
        "          for worker_iteration in range(worker_iterations[j]): \n",
        "                optimizers[i].zero_grad()\n",
        "                prediction = models[i](Agent_features[i])\n",
        "                loss = criterion(prediction, Agent_targets[i])\n",
        "                loss.backward()\n",
        "                optimizers[i].step()\n",
        "                loss = loss.get().data.item()\n",
        "          last_losses.append(loss)\n",
        "        for i in range(n_Agents):\n",
        "            losses[i].append(last_losses[i])\n",
        "            train_acc = compute_federated_accuracy(models[i], Agent_features[i], Agent_targets[i])\n",
        "            accuracies[i].append(train_acc)\n",
        "            models[i].move(secure_worker)\n",
        "        with th.no_grad():\n",
        "            avg_weight = sum([models[i].linear.weight.data for i in range(n_Agents)]) / n_Agents\n",
        "            model.linear.weight.set_(avg_weight.get())\n",
        "            avg_bias = sum([models[i].linear.bias.data for i in range(n_Agents)]) / n_Agents\n",
        "            model.linear.bias.set_(avg_bias.get())\n",
        "        if iteration % 5 == 0:\n",
        "            losses_str = ['{:.4f}'.format(losses[i][-1]) for i in range(n_Agents)]\n",
        "            accuracies_str = [to_percent(accuracies[i][-1]) for i in range(n_Agents)]\n",
        "            print('Iteration={}, losses={}, accuracies={}'.format(iteration, losses_str, accuracies_str))\n",
        "            if(FedResilience_title == 'Predict Outage'):\n",
        "              with open('/content/gdrive/My Drive/FL Agent/Output/Latest/FedResilience_5_3_Agents_Outage.txt', 'a') as f:\n",
        "                #f.write('Iteration={}, losses={}, accuracies={}\\n'.format(iteration, losses_str, accuracies_str))\n",
        "                #f.write('{}, {}, {}, {}, {}, {}, {}, {}, {}, {}, {}, {}, {}, {}, {}, {}, {}\\n'.format(iteration, losses_str[0],losses_str[1],losses_str[2],losses_str[3], losses_str[4],losses_str[5],losses_str[6], losses_str[7], accuracies_str[0],\n",
        "                #                                          accuracies_str[1], accuracies_str[2], accuracies_str[3], accuracies_str[4], accuracies_str[5], accuracies_str[6], accuracies_str[7]))\n",
        "                f.write('{}, {}, {}, {}, {}, {}, {}, {}, {}, {}, {}\\n'.format(iteration, losses_str[0],losses_str[1],losses_str[2],losses_str[3], losses_str[4], accuracies_str[0],\n",
        "                                                          accuracies_str[1], accuracies_str[2], accuracies_str[3], accuracies_str[4]))\n",
        "               # f.write('{}, {}, {}, {}, {}, {}, {}\\n'.format(iteration, losses_str[0],losses_str[1], losses_str[2], accuracies_str[0],\n",
        "            #                                              accuracies_str[1], accuracies_str[2]))\n",
        "           \n",
        "            if(FedResilience_title == 'Predict Resouce-sharing Information'):\n",
        "              with open('/content/gdrive/My Drive/FL Agent/Output/Latest/FedResilience_5_3_Agents_Resource.txt', 'a') as f:\n",
        "                #f.write('Iteration={}, losses={}, accuracies={}\\n'.format(iteration, losses_str, accuracies_str))\n",
        "                f.write('{}, {}, {}, {}, {}, {}, {}, {}, {}, {}, {}\\n'.format(iteration, losses_str[0],losses_str[1],losses_str[2],losses_str[3], losses_str[4], accuracies_str[0],\n",
        "                                                          accuracies_str[1], accuracies_str[2], accuracies_str[3], accuracies_str[4]))\n",
        "                #f.write('{}, {}, {}, {}, {}, {}, {}\\n'.format(iteration, losses_str[0],losses_str[1], losses_str[2], accuracies_str[0],\n",
        "                    #                                      accuracies_str[1], accuracies_str[2]))\n",
        "    plot_federated_graphs(FedResilience_title, losses, accuracies)\n",
        "    test_acc = compute_accuracy(model, test_input, test_output)\n",
        "    print('\\nTesting Accuracy = {}'.format(to_percent(test_acc)))\n",
        "    j=0\n",
        "    return model"
      ],
      "execution_count": null,
      "outputs": []
    },
    {
      "cell_type": "code",
      "metadata": {
        "id": "zXSGLTl2J4pF"
      },
      "source": [
        "model = federated_learning(FedResilience_title1, Agent_features, Agent_targets1, test_input, test_output1)"
      ],
      "execution_count": null,
      "outputs": []
    },
    {
      "cell_type": "code",
      "metadata": {
        "colab": {
          "base_uri": "https://localhost:8080/",
          "height": 1000
        },
        "id": "Uyu-Xi14J7dp",
        "outputId": "b72b1cca-53a8-4c74-f09d-8722f22c4ca0"
      },
      "source": [
        "model = federated_learning(FedResilience_title2, Agent_features, Agent_targets2, test_input, test_output2)\n"
      ],
      "execution_count": null,
      "outputs": [
        {
          "output_type": "stream",
          "text": [
            "/root/.local/lib/python3.7/site-packages/torch/nn/_reduction.py:43: UserWarning: size_average and reduce args will be deprecated, please use reduction='mean' instead.\n",
            "  warnings.warn(warning.format(ret))\n"
          ],
          "name": "stderr"
        },
        {
          "output_type": "stream",
          "text": [
            "Iteration=0, losses=['0.5677', '0.5677', '0.5677', '0.5677', '0.5677'], accuracies=['73.75%', '79.06%', '79.38%', '73.75%', '77.81%']\n",
            "Iteration=5, losses=['0.5579', '0.5579', '0.5579', '0.5579', '0.5579'], accuracies=['74.06%', '80.31%', '81.56%', '74.69%', '79.38%']\n",
            "Iteration=10, losses=['0.5549', '0.5549', '0.5549', '0.5549', '0.5549'], accuracies=['75.00%', '80.31%', '81.25%', '75.00%', '80.00%']\n",
            "Iteration=15, losses=['0.5532', '0.5532', '0.5532', '0.5532', '0.5532'], accuracies=['75.31%', '80.62%', '81.56%', '75.62%', '80.62%']\n",
            "Iteration=20, losses=['0.5520', '0.5520', '0.5520', '0.5520', '0.5520'], accuracies=['75.31%', '80.94%', '81.88%', '75.62%', '80.62%']\n",
            "Iteration=25, losses=['0.5508', '0.5508', '0.5508', '0.5508', '0.5508'], accuracies=['75.31%', '80.94%', '81.88%', '75.62%', '80.62%']\n",
            "Iteration=30, losses=['0.5496', '0.5496', '0.5496', '0.5496', '0.5496'], accuracies=['75.31%', '80.94%', '81.88%', '75.62%', '80.62%']\n",
            "Iteration=35, losses=['0.5485', '0.5485', '0.5485', '0.5485', '0.5485'], accuracies=['75.31%', '80.94%', '81.88%', '75.62%', '80.62%']\n",
            "Iteration=40, losses=['0.5473', '0.5473', '0.5473', '0.5473', '0.5473'], accuracies=['75.62%', '80.94%', '81.88%', '75.62%', '80.62%']\n",
            "Iteration=45, losses=['0.5462', '0.5462', '0.5462', '0.5462', '0.5462'], accuracies=['75.62%', '81.56%', '82.50%', '75.94%', '80.94%']\n",
            "Iteration=50, losses=['0.5451', '0.5451', '0.5451', '0.5451', '0.5451'], accuracies=['75.62%', '81.56%', '82.50%', '75.94%', '80.94%']\n",
            "Iteration=55, losses=['0.5439', '0.5439', '0.5439', '0.5439', '0.5439'], accuracies=['75.62%', '81.56%', '82.50%', '75.94%', '80.94%']\n",
            "Iteration=60, losses=['0.5428', '0.5428', '0.5428', '0.5428', '0.5428'], accuracies=['75.62%', '81.56%', '82.50%', '75.94%', '80.94%']\n",
            "Iteration=65, losses=['0.5417', '0.5417', '0.5417', '0.5417', '0.5417'], accuracies=['75.62%', '81.56%', '82.50%', '75.94%', '80.94%']\n",
            "Iteration=70, losses=['0.5406', '0.5406', '0.5406', '0.5406', '0.5406'], accuracies=['75.62%', '81.56%', '82.50%', '75.94%', '80.94%']\n",
            "Iteration=75, losses=['0.5395', '0.5395', '0.5395', '0.5395', '0.5395'], accuracies=['75.62%', '81.56%', '82.50%', '75.94%', '80.94%']\n",
            "Iteration=80, losses=['0.5384', '0.5384', '0.5384', '0.5384', '0.5384'], accuracies=['75.62%', '81.56%', '82.50%', '75.94%', '80.94%']\n",
            "Iteration=85, losses=['0.5373', '0.5373', '0.5373', '0.5373', '0.5373'], accuracies=['75.62%', '81.56%', '82.50%', '75.94%', '80.94%']\n",
            "Iteration=90, losses=['0.5362', '0.5362', '0.5362', '0.5362', '0.5362'], accuracies=['75.62%', '81.56%', '82.50%', '75.94%', '80.94%']\n",
            "Iteration=95, losses=['0.5351', '0.5351', '0.5351', '0.5351', '0.5351'], accuracies=['75.62%', '81.56%', '82.50%', '75.94%', '80.94%']\n",
            "Iteration=100, losses=['0.5340', '0.5340', '0.5340', '0.5340', '0.5340'], accuracies=['76.56%', '81.56%', '82.50%', '75.94%', '80.94%']\n",
            "Iteration=105, losses=['0.5329', '0.5329', '0.5329', '0.5329', '0.5329'], accuracies=['76.56%', '81.88%', '82.81%', '76.56%', '81.25%']\n",
            "Iteration=110, losses=['0.5318', '0.5318', '0.5318', '0.5318', '0.5318'], accuracies=['76.56%', '81.88%', '82.81%', '76.56%', '81.25%']\n",
            "Iteration=115, losses=['0.5308', '0.5308', '0.5308', '0.5308', '0.5308'], accuracies=['76.56%', '81.88%', '82.81%', '76.56%', '81.25%']\n",
            "Iteration=120, losses=['0.5297', '0.5297', '0.5297', '0.5297', '0.5297'], accuracies=['76.56%', '81.88%', '82.81%', '76.56%', '81.25%']\n",
            "Iteration=125, losses=['0.5286', '0.5286', '0.5286', '0.5286', '0.5286'], accuracies=['76.56%', '82.19%', '83.44%', '76.56%', '81.25%']\n",
            "Iteration=130, losses=['0.5276', '0.5276', '0.5276', '0.5276', '0.5276'], accuracies=['76.56%', '82.81%', '83.75%', '76.56%', '81.25%']\n",
            "Iteration=135, losses=['0.5265', '0.5265', '0.5265', '0.5265', '0.5265'], accuracies=['76.56%', '82.81%', '83.75%', '76.56%', '81.25%']\n",
            "Iteration=140, losses=['0.5255', '0.5255', '0.5255', '0.5255', '0.5255'], accuracies=['76.56%', '82.81%', '83.75%', '76.56%', '81.25%']\n",
            "Iteration=145, losses=['0.5244', '0.5244', '0.5244', '0.5244', '0.5244'], accuracies=['76.56%', '82.81%', '83.75%', '76.56%', '81.25%']\n",
            "Iteration=150, losses=['0.5234', '0.5234', '0.5234', '0.5234', '0.5234'], accuracies=['76.56%', '82.81%', '83.75%', '76.56%', '81.25%']\n",
            "Iteration=155, losses=['0.5224', '0.5224', '0.5224', '0.5224', '0.5224'], accuracies=['76.88%', '82.81%', '84.06%', '76.56%', '81.25%']\n",
            "Iteration=160, losses=['0.5213', '0.5213', '0.5213', '0.5213', '0.5213'], accuracies=['76.88%', '83.12%', '84.69%', '77.50%', '81.56%']\n",
            "Iteration=165, losses=['0.5203', '0.5203', '0.5203', '0.5203', '0.5203'], accuracies=['76.88%', '83.12%', '84.69%', '77.50%', '81.56%']\n",
            "Iteration=170, losses=['0.5193', '0.5193', '0.5193', '0.5193', '0.5193'], accuracies=['76.88%', '83.12%', '84.69%', '77.50%', '81.56%']\n",
            "Iteration=175, losses=['0.5182', '0.5182', '0.5182', '0.5182', '0.5182'], accuracies=['76.88%', '83.12%', '84.69%', '77.50%', '81.56%']\n",
            "Iteration=180, losses=['0.5172', '0.5172', '0.5172', '0.5172', '0.5172'], accuracies=['76.88%', '83.12%', '84.69%', '77.50%', '81.56%']\n",
            "Iteration=185, losses=['0.5162', '0.5162', '0.5162', '0.5162', '0.5162'], accuracies=['76.88%', '83.12%', '84.69%', '77.50%', '81.56%']\n",
            "Iteration=190, losses=['0.5152', '0.5152', '0.5152', '0.5152', '0.5152'], accuracies=['76.88%', '83.12%', '84.69%', '77.50%', '81.56%']\n",
            "Iteration=195, losses=['0.5142', '0.5142', '0.5142', '0.5142', '0.5142'], accuracies=['76.88%', '83.12%', '84.69%', '77.50%', '81.56%']\n",
            "Iteration=200, losses=['0.5132', '0.5132', '0.5132', '0.5132', '0.5132'], accuracies=['76.88%', '83.12%', '84.69%', '77.50%', '81.56%']\n",
            "Iteration=205, losses=['0.5122', '0.5122', '0.5122', '0.5122', '0.5122'], accuracies=['76.88%', '83.12%', '84.69%', '77.50%', '81.56%']\n",
            "Iteration=210, losses=['0.5112', '0.5112', '0.5112', '0.5112', '0.5112'], accuracies=['76.88%', '83.12%', '84.69%', '77.50%', '81.56%']\n",
            "Iteration=215, losses=['0.5102', '0.5102', '0.5102', '0.5102', '0.5102'], accuracies=['76.88%', '83.12%', '84.69%', '77.81%', '81.88%']\n",
            "Iteration=220, losses=['0.5092', '0.5092', '0.5092', '0.5092', '0.5092'], accuracies=['76.88%', '83.12%', '84.69%', '77.81%', '81.88%']\n",
            "Iteration=225, losses=['0.5082', '0.5082', '0.5082', '0.5082', '0.5082'], accuracies=['76.88%', '83.12%', '84.69%', '77.81%', '81.88%']\n",
            "Iteration=230, losses=['0.5073', '0.5073', '0.5073', '0.5073', '0.5073'], accuracies=['76.88%', '83.12%', '84.69%', '77.81%', '81.88%']\n",
            "Iteration=235, losses=['0.5063', '0.5063', '0.5063', '0.5063', '0.5063'], accuracies=['76.88%', '83.12%', '84.69%', '77.81%', '81.88%']\n",
            "Iteration=240, losses=['0.5053', '0.5053', '0.5053', '0.5053', '0.5053'], accuracies=['77.50%', '83.12%', '84.69%', '77.81%', '81.88%']\n",
            "Iteration=245, losses=['0.5044', '0.5044', '0.5044', '0.5044', '0.5044'], accuracies=['77.50%', '83.12%', '85.00%', '78.12%', '82.19%']\n",
            "Iteration=250, losses=['0.5034', '0.5034', '0.5034', '0.5034', '0.5034'], accuracies=['77.50%', '83.12%', '85.00%', '78.12%', '82.19%']\n",
            "Iteration=255, losses=['0.5024', '0.5024', '0.5024', '0.5024', '0.5024'], accuracies=['77.50%', '83.12%', '85.00%', '78.12%', '82.19%']\n",
            "Iteration=260, losses=['0.5015', '0.5015', '0.5015', '0.5015', '0.5015'], accuracies=['77.50%', '83.12%', '85.00%', '78.12%', '82.19%']\n",
            "Iteration=265, losses=['0.5005', '0.5005', '0.5005', '0.5005', '0.5005'], accuracies=['77.50%', '83.12%', '85.00%', '78.44%', '82.50%']\n",
            "Iteration=270, losses=['0.4996', '0.4996', '0.4996', '0.4996', '0.4996'], accuracies=['77.50%', '83.44%', '85.31%', '78.44%', '82.50%']\n",
            "Iteration=275, losses=['0.4986', '0.4986', '0.4986', '0.4986', '0.4986'], accuracies=['77.50%', '83.44%', '85.31%', '78.44%', '82.50%']\n",
            "Iteration=280, losses=['0.4977', '0.4977', '0.4977', '0.4977', '0.4977'], accuracies=['77.50%', '83.44%', '85.31%', '78.44%', '82.50%']\n",
            "Iteration=285, losses=['0.4968', '0.4968', '0.4968', '0.4968', '0.4968'], accuracies=['77.50%', '83.44%', '85.31%', '78.44%', '82.50%']\n",
            "Iteration=290, losses=['0.4958', '0.4958', '0.4958', '0.4958', '0.4958'], accuracies=['77.50%', '83.44%', '85.31%', '78.44%', '82.50%']\n",
            "Iteration=295, losses=['0.4949', '0.4949', '0.4949', '0.4949', '0.4949'], accuracies=['77.50%', '83.44%', '85.31%', '78.44%', '82.50%']\n",
            "Iteration=300, losses=['0.4940', '0.4940', '0.4940', '0.4940', '0.4940'], accuracies=['77.50%', '83.44%', '85.31%', '78.44%', '82.50%']\n",
            "Iteration=305, losses=['0.4931', '0.4931', '0.4931', '0.4931', '0.4931'], accuracies=['77.50%', '83.44%', '85.31%', '78.44%', '82.50%']\n",
            "Iteration=310, losses=['0.4921', '0.4921', '0.4921', '0.4921', '0.4921'], accuracies=['77.50%', '83.44%', '85.31%', '78.44%', '82.50%']\n",
            "Iteration=315, losses=['0.4912', '0.4912', '0.4912', '0.4912', '0.4912'], accuracies=['77.81%', '83.44%', '85.31%', '78.44%', '82.50%']\n",
            "Iteration=320, losses=['0.4903', '0.4903', '0.4903', '0.4903', '0.4903'], accuracies=['77.81%', '84.06%', '85.31%', '78.75%', '82.50%']\n",
            "Iteration=325, losses=['0.4894', '0.4894', '0.4894', '0.4894', '0.4894'], accuracies=['77.81%', '84.06%', '85.31%', '78.75%', '82.50%']\n",
            "Iteration=330, losses=['0.4885', '0.4885', '0.4885', '0.4885', '0.4885'], accuracies=['77.81%', '84.06%', '85.31%', '78.75%', '82.50%']\n",
            "Iteration=335, losses=['0.4876', '0.4876', '0.4876', '0.4876', '0.4876'], accuracies=['77.81%', '84.06%', '85.31%', '78.75%', '82.50%']\n",
            "Iteration=340, losses=['0.4867', '0.4867', '0.4867', '0.4867', '0.4867'], accuracies=['77.81%', '84.06%', '85.31%', '78.75%', '82.50%']\n",
            "Iteration=345, losses=['0.4858', '0.4858', '0.4858', '0.4858', '0.4858'], accuracies=['77.81%', '84.06%', '85.31%', '78.75%', '82.50%']\n",
            "Iteration=350, losses=['0.4849', '0.4849', '0.4849', '0.4849', '0.4849'], accuracies=['78.12%', '84.06%', '85.31%', '78.75%', '82.50%']\n",
            "Iteration=355, losses=['0.4840', '0.4840', '0.4840', '0.4840', '0.4840'], accuracies=['78.12%', '85.00%', '85.31%', '78.75%', '82.50%']\n",
            "Iteration=360, losses=['0.4832', '0.4832', '0.4832', '0.4832', '0.4832'], accuracies=['78.12%', '85.00%', '85.31%', '78.75%', '82.50%']\n",
            "Iteration=365, losses=['0.4823', '0.4823', '0.4823', '0.4823', '0.4823'], accuracies=['78.12%', '85.00%', '85.31%', '78.75%', '82.50%']\n",
            "Iteration=370, losses=['0.4814', '0.4814', '0.4814', '0.4814', '0.4814'], accuracies=['78.12%', '85.00%', '85.62%', '79.38%', '83.75%']\n",
            "Iteration=375, losses=['0.4805', '0.4805', '0.4805', '0.4805', '0.4805'], accuracies=['78.12%', '85.00%', '85.62%', '79.38%', '83.75%']\n",
            "Iteration=380, losses=['0.4797', '0.4797', '0.4797', '0.4797', '0.4797'], accuracies=['78.12%', '85.00%', '85.62%', '79.38%', '83.75%']\n",
            "Iteration=385, losses=['0.4788', '0.4788', '0.4788', '0.4788', '0.4788'], accuracies=['78.12%', '85.00%', '85.62%', '79.38%', '83.75%']\n",
            "Iteration=390, losses=['0.4779', '0.4779', '0.4779', '0.4779', '0.4779'], accuracies=['78.12%', '85.00%', '85.62%', '79.38%', '83.75%']\n",
            "Iteration=395, losses=['0.4771', '0.4771', '0.4771', '0.4771', '0.4771'], accuracies=['78.12%', '85.00%', '85.62%', '79.38%', '83.75%']\n",
            "Iteration=400, losses=['0.4762', '0.4762', '0.4762', '0.4762', '0.4762'], accuracies=['78.12%', '85.00%', '85.62%', '79.38%', '83.75%']\n",
            "Iteration=405, losses=['0.4754', '0.4754', '0.4754', '0.4754', '0.4754'], accuracies=['78.12%', '85.00%', '85.62%', '79.38%', '83.75%']\n",
            "Iteration=410, losses=['0.4745', '0.4745', '0.4745', '0.4745', '0.4745'], accuracies=['78.12%', '85.00%', '85.62%', '79.38%', '83.75%']\n",
            "Iteration=415, losses=['0.4737', '0.4737', '0.4737', '0.4737', '0.4737'], accuracies=['78.12%', '85.00%', '85.62%', '79.38%', '83.75%']\n",
            "Iteration=420, losses=['0.4728', '0.4728', '0.4728', '0.4728', '0.4728'], accuracies=['78.12%', '85.31%', '85.94%', '79.38%', '83.75%']\n",
            "Iteration=425, losses=['0.4720', '0.4720', '0.4720', '0.4720', '0.4720'], accuracies=['78.12%', '85.31%', '85.94%', '79.38%', '83.75%']\n",
            "Iteration=430, losses=['0.4712', '0.4712', '0.4712', '0.4712', '0.4712'], accuracies=['78.12%', '85.31%', '85.94%', '79.38%', '83.75%']\n",
            "Iteration=435, losses=['0.4703', '0.4703', '0.4703', '0.4703', '0.4703'], accuracies=['78.12%', '85.31%', '85.94%', '79.38%', '83.75%']\n",
            "Iteration=440, losses=['0.4695', '0.4695', '0.4695', '0.4695', '0.4695'], accuracies=['78.12%', '85.31%', '85.94%', '79.38%', '83.75%']\n",
            "Iteration=445, losses=['0.4687', '0.4687', '0.4687', '0.4687', '0.4687'], accuracies=['78.12%', '85.31%', '85.94%', '79.38%', '83.75%']\n",
            "Iteration=450, losses=['0.4678', '0.4678', '0.4678', '0.4678', '0.4678'], accuracies=['78.12%', '85.31%', '85.94%', '79.38%', '83.75%']\n",
            "Iteration=455, losses=['0.4670', '0.4670', '0.4670', '0.4670', '0.4670'], accuracies=['78.75%', '85.31%', '85.94%', '79.38%', '83.75%']\n",
            "Iteration=460, losses=['0.4662', '0.4662', '0.4662', '0.4662', '0.4662'], accuracies=['78.75%', '85.62%', '85.94%', '79.38%', '83.75%']\n",
            "Iteration=465, losses=['0.4654', '0.4654', '0.4654', '0.4654', '0.4654'], accuracies=['78.75%', '85.62%', '85.94%', '79.38%', '83.75%']\n",
            "Iteration=470, losses=['0.4646', '0.4646', '0.4646', '0.4646', '0.4646'], accuracies=['78.75%', '85.62%', '85.94%', '79.38%', '83.75%']\n",
            "Iteration=475, losses=['0.4638', '0.4638', '0.4638', '0.4638', '0.4638'], accuracies=['78.75%', '85.62%', '85.94%', '79.38%', '83.75%']\n",
            "Iteration=480, losses=['0.4630', '0.4630', '0.4630', '0.4630', '0.4630'], accuracies=['78.75%', '85.62%', '85.94%', '79.38%', '83.75%']\n",
            "Iteration=485, losses=['0.4622', '0.4622', '0.4622', '0.4622', '0.4622'], accuracies=['78.75%', '85.62%', '85.94%', '79.38%', '83.75%']\n",
            "Iteration=490, losses=['0.4614', '0.4614', '0.4614', '0.4614', '0.4614'], accuracies=['78.75%', '85.62%', '85.94%', '79.38%', '83.75%']\n",
            "Iteration=495, losses=['0.4606', '0.4606', '0.4606', '0.4606', '0.4606'], accuracies=['78.75%', '85.62%', '85.94%', '79.38%', '83.75%']\n",
            "Iteration=500, losses=['0.4598', '0.4598', '0.4598', '0.4598', '0.4598'], accuracies=['78.75%', '85.62%', '85.94%', '79.38%', '83.75%']\n"
          ],
          "name": "stdout"
        },
        {
          "output_type": "display_data",
          "data": {
            "image/png": "[encoded data removed]",
            "text/plain": [
              "<Figure size 432x288 with 1 Axes>"
            ]
          },
          "metadata": {
            "tags": [],
            "needs_background": "light"
          }
        },
        {
          "output_type": "display_data",
          "data": {
            "image/png": "[encoded data removed]",
            "text/plain": [
              "<Figure size 432x288 with 1 Axes>"
            ]
          },
          "metadata": {
            "tags": [],
            "needs_background": "light"
          }
        },
        {
          "output_type": "stream",
          "text": [
            "\n",
            "Testing Accuracy = 81.00%\n"
          ],
          "name": "stdout"
        }
      ]
    }
  ]
}